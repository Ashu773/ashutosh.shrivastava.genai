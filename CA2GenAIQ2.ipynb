{
  "nbformat": 4,
  "nbformat_minor": 0,
  "metadata": {
    "colab": {
      "provenance": []
    },
    "kernelspec": {
      "name": "python3",
      "display_name": "Python 3"
    },
    "language_info": {
      "name": "python"
    }
  },
  "cells": [
    {
      "cell_type": "code",
      "source": [
        "import re\n"
      ],
      "metadata": {
        "id": "2yryi66zQfkx"
      },
      "execution_count": 1,
      "outputs": []
    },
    {
      "cell_type": "code",
      "source": [
        "class EquationParser:\n",
        "    def __init__(self, equation):\n",
        "        self.equation = equation\n",
        "        self.variables = self.extract_variables()\n",
        "    def extract_variables(self):\n",
        "        pattern = r'\\b[a-zA-Z]\\b'\n",
        "        return sorted(set(re.findall(pattern, self.equation)))\n",
        "    def evaluate(self, **kwargs):\n",
        "        equation_with_values = self.equation\n",
        "        for var, value in kwargs.items():\n",
        "            equation_with_values = equation_with_values.replace(var, str(value))\n",
        "\n",
        "        try:\n",
        "            result = eval(equation_with_values)\n",
        "        except Exception as e:\n",
        "            raise ValueError(f\"Error evaluating the equation: {e}\")\n",
        "\n",
        "        return result"
      ],
      "metadata": {
        "id": "ufK4JCyCQ20l"
      },
      "execution_count": 5,
      "outputs": []
    },
    {
      "cell_type": "code",
      "source": [
        "def main():\n",
        "    equation = input(\"Enter a mathematical equation (e.g., a + b * c): \").strip()\n",
        "\n",
        "    parser = EquationParser(equation)\n",
        "\n",
        "    if not parser.variables:\n",
        "        print(\"No variables found in the equation.\")\n",
        "        return\n",
        "\n",
        "    print(f\"Variables found in the equation: {parser.variables}\")\n",
        "\n",
        "    user_values = {}\n",
        "    for var in parser.variables:\n",
        "        user_values[var] = float(input(f\"Enter the value for {var}: \"))\n",
        "\n",
        "    try:\n",
        "        result = parser.evaluate(**user_values)\n",
        "        print(f\"The result of the equation is: {result}\")\n",
        "    except ValueError as e:\n",
        "        print(e)\n"
      ],
      "metadata": {
        "id": "IUF3ixgQSeiL"
      },
      "execution_count": 6,
      "outputs": []
    },
    {
      "cell_type": "code",
      "source": [
        "main()"
      ],
      "metadata": {
        "colab": {
          "base_uri": "https://localhost:8080/"
        },
        "id": "tKWmpppETPWL",
        "outputId": "f2d9bae5-fa89-4d5c-b3f0-49a5a103b125"
      },
      "execution_count": 7,
      "outputs": [
        {
          "output_type": "stream",
          "name": "stdout",
          "text": [
            "Enter a mathematical equation (e.g., a + b * c): a*b+c\n",
            "Variables found in the equation: ['a', 'b', 'c']\n",
            "Enter the value for a: 2\n",
            "Enter the value for b: 5\n",
            "Enter the value for c: 10\n",
            "The result of the equation is: 20.0\n"
          ]
        }
      ]
    }
  ]
}